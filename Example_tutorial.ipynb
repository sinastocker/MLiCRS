{
 "cells": [
  {
   "cell_type": "markdown",
   "metadata": {},
   "source": [
    "Tutorials\n",
    "---------\n",
    "This tutorial introduction will give example scripts on how to: \n",
    "- **prepare a multisoap average kernel**\n",
    "- **do FPS sampling**\n",
    "- **fit a model with KRR**\n",
    "- **perform kPCA**\n",
    "- **and calculate reaction energies from predicted atomization energies**"
   ]
  },
  {
   "cell_type": "code",
   "execution_count": 1,
   "metadata": {},
   "outputs": [],
   "source": [
    "# Load modules\n",
    "import ase.io\n",
    "from mltools.gap import Gap\n",
    "import numpy as np\n",
    "import matplotlib.pyplot as plt\n",
    "from sklearn.metrics import mean_absolute_error\n",
    "from MLinCRS.krr import get_krr_coeff, get_prediction, grid_search_1d_validation_set\n",
    "from MLinCRS.kPCA import kPCA\n",
    "from MLinCRS.reactiontools import read_reaction_network_g0, append_energy_4_rearrangements"
   ]
  },
  {
   "cell_type": "markdown",
   "metadata": {},
   "source": [
    "Multisoap kernel matrix:\n",
    "------------------------\n",
    "The following script prepares an average multisoap kernel for 500 molecules using the **calc_kernel_matrix_soap()** method from mltools.\n",
    "\n",
    "To this end, we have to define a descriptor string, which specifies the parameters for the SOAP descriptor. Descriptors are created using the quippy code. Further instructions how to specify the descriptor string are given on https://libatoms.github.io/GAP/quippy-descriptor-tutorial.html. In this example we will use two SOAP representaions with different `cutoff` and `atom_sigma` parameters to account for short and long range effects. \n"
   ]
  },
  {
   "cell_type": "code",
   "execution_count": 2,
   "metadata": {},
   "outputs": [],
   "source": [
    "# Define parameters for short range soap\n",
    "cutoff = 2.\n",
    "atom_sigma = 0.3\n",
    "# Descriptor string for short range soap\n",
    "desc_str_2 = f\"soap cutoff={cutoff} l_max=8 n_max=8 atom_sigma={atom_sigma} n_species=3 species_Z={{1 6 8}} n_Z=3 Z={{1 6 8}}\"\n",
    "\n",
    "# Define parameters for long range soap\n",
    "cutoff = 4.\n",
    "atom_sigma = 0.6\n",
    "desc_str_4 = f\"soap cutoff={cutoff} l_max=8 n_max=8 atom_sigma={atom_sigma} n_species=3 species_Z={{1 6 8}} n_Z=3 Z={{1 6 8}}\""
   ]
  },
  {
   "cell_type": "markdown",
   "metadata": {},
   "source": [
    "Next, the molecules are loaded for which the descriptors are to be calculated:"
   ]
  },
  {
   "cell_type": "code",
   "execution_count": 3,
   "metadata": {},
   "outputs": [],
   "source": [
    "# Load molecules\n",
    "m = ase.io.read('./data_store/molecules/mols_ntrain_500_uff_k_int_fps_int.xyz@:')"
   ]
  },
  {
   "cell_type": "markdown",
   "metadata": {},
   "source": [
    "We initialize a Gap instance and set the list of molecules as the variable **atoms_other**. In order to calculate the atomic descriptors for the atoms in each molecule, the quippy code needs lattices around them. This can easily be achieved with the gap method **set_lattices()**."
   ]
  },
  {
   "cell_type": "code",
   "execution_count": 4,
   "metadata": {},
   "outputs": [],
   "source": [
    "# Initialize the Gap instance\n",
    "gap = Gap()\n",
    "gap.atoms_other = m\n",
    "gap.set_lattices(50, 'other')"
   ]
  },
  {
   "cell_type": "markdown",
   "metadata": {},
   "source": [
    "Descriptors are now generated via the method **get_descriptors()** for SOAP representations with cutoff 2 Å and 4 Å. The descriptors are stored in lists. For every molecule you get an matrix with the same number of descriptors as atoms occur in the molecule."
   ]
  },
  {
   "cell_type": "code",
   "execution_count": 5,
   "metadata": {},
   "outputs": [],
   "source": [
    "# Descriptors\n",
    "descs_2 = gap.get_descriptors('other', desc_str_2)\n",
    "descs_4 = gap.get_descriptors('other', desc_str_4)"
   ]
  },
  {
   "cell_type": "markdown",
   "metadata": {},
   "source": [
    "Now we can prepare the average kernel via the method **calc_kernel_matrix_soap()**. Therefore the parameter `kernel_type` has to be set to the keyword *average* (which is also the default) and we normalize the kernel matrix so that K(i,j) = K(i,j)/sqrt(K(i,i) K(j,j)) by setting `normalize` to *True* (also default). Further parameters can be set e.g. `zeta`, `ncores`, `verbose`, ... that are documented in the mltools source code. \n",
    "\n",
    "If you want to calculate the sum kernel instead, the parameter `kernel_type` has to set to *sum*. Since the sum kernel is an extensive kernel the individual kernel elements are not normalized, which is the default.     "
   ]
  },
  {
   "cell_type": "code",
   "execution_count": 6,
   "metadata": {},
   "outputs": [
    {
     "name": "stdout",
     "output_type": "stream",
     "text": [
      "Calculate the average kernel for 500 molecules\n",
      "2020-09-12 09:34:08.975711 Kernel element (diagonal) :     10/500 (for normalization)\n",
      "2020-09-12 09:34:08.986321 Kernel element (diagonal) :     20/500 (for normalization)\n",
      "2020-09-12 09:34:08.997846 Kernel element (diagonal) :     30/500 (for normalization)\n",
      "2020-09-12 09:34:09.007346 Kernel element (diagonal) :     40/500 (for normalization)\n",
      "2020-09-12 09:34:09.016684 Kernel element (diagonal) :     50/500 (for normalization)\n",
      "2020-09-12 09:34:09.026853 Kernel element (diagonal) :     60/500 (for normalization)\n",
      "2020-09-12 09:34:09.041611 Kernel element (diagonal) :     70/500 (for normalization)\n",
      "2020-09-12 09:34:09.054626 Kernel element (diagonal) :     80/500 (for normalization)\n",
      "2020-09-12 09:34:09.064025 Kernel element (diagonal) :     90/500 (for normalization)\n",
      "2020-09-12 09:34:09.067700 Kernel element (diagonal) :     100/500 (for normalization)\n",
      "2020-09-12 09:34:09.073507 Kernel element (diagonal) :     110/500 (for normalization)\n",
      "2020-09-12 09:34:09.078326 Kernel element (diagonal) :     120/500 (for normalization)\n",
      "2020-09-12 09:34:09.082134 Kernel element (diagonal) :     130/500 (for normalization)\n",
      "2020-09-12 09:34:09.086929 Kernel element (diagonal) :     140/500 (for normalization)\n",
      "2020-09-12 09:34:09.090699 Kernel element (diagonal) :     150/500 (for normalization)\n",
      "2020-09-12 09:34:09.095618 Kernel element (diagonal) :     160/500 (for normalization)\n",
      "2020-09-12 09:34:09.099974 Kernel element (diagonal) :     170/500 (for normalization)\n",
      "2020-09-12 09:34:09.105620 Kernel element (diagonal) :     180/500 (for normalization)\n",
      "2020-09-12 09:34:09.110830 Kernel element (diagonal) :     190/500 (for normalization)\n",
      "2020-09-12 09:34:09.116663 Kernel element (diagonal) :     200/500 (for normalization)\n",
      "2020-09-12 09:34:09.122781 Kernel element (diagonal) :     210/500 (for normalization)\n",
      "2020-09-12 09:34:09.127621 Kernel element (diagonal) :     220/500 (for normalization)\n",
      "2020-09-12 09:34:09.133969 Kernel element (diagonal) :     230/500 (for normalization)\n",
      "2020-09-12 09:34:09.140873 Kernel element (diagonal) :     240/500 (for normalization)\n",
      "2020-09-12 09:34:09.146180 Kernel element (diagonal) :     250/500 (for normalization)\n",
      "2020-09-12 09:34:09.152077 Kernel element (diagonal) :     260/500 (for normalization)\n",
      "2020-09-12 09:34:09.157358 Kernel element (diagonal) :     270/500 (for normalization)\n",
      "2020-09-12 09:34:09.162477 Kernel element (diagonal) :     280/500 (for normalization)\n",
      "2020-09-12 09:34:09.173790 Kernel element (diagonal) :     290/500 (for normalization)\n",
      "2020-09-12 09:34:09.182826 Kernel element (diagonal) :     300/500 (for normalization)\n",
      "2020-09-12 09:34:09.191106 Kernel element (diagonal) :     310/500 (for normalization)\n",
      "2020-09-12 09:34:09.197918 Kernel element (diagonal) :     320/500 (for normalization)\n",
      "2020-09-12 09:34:09.204513 Kernel element (diagonal) :     330/500 (for normalization)\n",
      "2020-09-12 09:34:09.209335 Kernel element (diagonal) :     340/500 (for normalization)\n",
      "2020-09-12 09:34:09.215340 Kernel element (diagonal) :     350/500 (for normalization)\n",
      "2020-09-12 09:34:09.221337 Kernel element (diagonal) :     360/500 (for normalization)\n",
      "2020-09-12 09:34:09.227049 Kernel element (diagonal) :     370/500 (for normalization)\n",
      "2020-09-12 09:34:09.233863 Kernel element (diagonal) :     380/500 (for normalization)\n",
      "2020-09-12 09:34:09.240905 Kernel element (diagonal) :     390/500 (for normalization)\n",
      "2020-09-12 09:34:09.246244 Kernel element (diagonal) :     400/500 (for normalization)\n",
      "2020-09-12 09:34:09.252287 Kernel element (diagonal) :     410/500 (for normalization)\n",
      "2020-09-12 09:34:09.257600 Kernel element (diagonal) :     420/500 (for normalization)\n",
      "2020-09-12 09:34:09.264579 Kernel element (diagonal) :     430/500 (for normalization)\n",
      "2020-09-12 09:34:09.270014 Kernel element (diagonal) :     440/500 (for normalization)\n",
      "2020-09-12 09:34:09.274923 Kernel element (diagonal) :     450/500 (for normalization)\n",
      "2020-09-12 09:34:09.280882 Kernel element (diagonal) :     460/500 (for normalization)\n",
      "2020-09-12 09:34:09.286406 Kernel element (diagonal) :     470/500 (for normalization)\n",
      "2020-09-12 09:34:09.291442 Kernel element (diagonal) :     480/500 (for normalization)\n",
      "2020-09-12 09:34:09.297976 Kernel element (diagonal) :     490/500 (for normalization)\n",
      "2020-09-12 09:34:09.304128 Kernel element (diagonal) :     500/500 (for normalization)\n",
      "2020-09-12 09:34:09.324143 Kernel element (off-diagonal) : 3/124750 (0.0024 %)\n",
      "2020-09-12 09:34:09.388475 Kernel element (off-diagonal) : 10/124750 (0.0080 %)\n",
      "2020-09-12 09:34:09.414862 Kernel element (off-diagonal) : 21/124750 (0.0168 %)\n",
      "2020-09-12 09:34:09.435120 Kernel element (off-diagonal) : 36/124750 (0.0289 %)\n",
      "2020-09-12 09:34:09.459646 Kernel element (off-diagonal) : 55/124750 (0.0441 %)\n",
      "2020-09-12 09:34:09.486023 Kernel element (off-diagonal) : 78/124750 (0.0625 %)\n",
      "2020-09-12 09:34:09.508699 Kernel element (off-diagonal) : 105/124750 (0.0842 %)\n",
      "2020-09-12 09:34:09.542971 Kernel element (off-diagonal) : 136/124750 (0.1090 %)\n",
      "2020-09-12 09:34:09.572446 Kernel element (off-diagonal) : 171/124750 (0.1371 %)\n",
      "2020-09-12 09:34:09.601457 Kernel element (off-diagonal) : 210/124750 (0.1683 %)\n",
      "2020-09-12 09:34:09.650599 Kernel element (off-diagonal) : 253/124750 (0.2028 %)\n",
      "2020-09-12 09:34:09.708455 Kernel element (off-diagonal) : 300/124750 (0.2405 %)\n",
      "2020-09-12 09:34:09.785616 Kernel element (off-diagonal) : 351/124750 (0.2814 %)\n",
      "2020-09-12 09:34:09.864403 Kernel element (off-diagonal) : 406/124750 (0.3255 %)\n",
      "2020-09-12 09:34:09.946641 Kernel element (off-diagonal) : 465/124750 (0.3727 %)\n",
      "2020-09-12 09:34:10.039183 Kernel element (off-diagonal) : 528/124750 (0.4232 %)\n",
      "2020-09-12 09:34:10.119112 Kernel element (off-diagonal) : 595/124750 (0.4770 %)\n",
      "2020-09-12 09:34:10.219102 Kernel element (off-diagonal) : 666/124750 (0.5339 %)\n",
      "2020-09-12 09:34:10.321412 Kernel element (off-diagonal) : 741/124750 (0.5940 %)\n",
      "2020-09-12 09:34:10.372192 Kernel element (off-diagonal) : 820/124750 (0.6573 %)\n",
      "2020-09-12 09:34:10.400550 Kernel element (off-diagonal) : 903/124750 (0.7238 %)\n",
      "2020-09-12 09:34:10.430852 Kernel element (off-diagonal) : 990/124750 (0.7936 %)\n",
      "2020-09-12 09:34:10.468272 Kernel element (off-diagonal) : 1081/124750 (0.8665 %)\n",
      "2020-09-12 09:34:10.506404 Kernel element (off-diagonal) : 1176/124750 (0.9427 %)\n",
      "2020-09-12 09:34:10.550404 Kernel element (off-diagonal) : 1275/124750 (1.0220 %)\n",
      "2020-09-12 09:34:10.577947 Kernel element (off-diagonal) : 1378/124750 (1.1046 %)\n",
      "2020-09-12 09:34:10.642099 Kernel element (off-diagonal) : 1485/124750 (1.1904 %)\n",
      "2020-09-12 09:34:10.687909 Kernel element (off-diagonal) : 1596/124750 (1.2794 %)\n",
      "2020-09-12 09:34:10.729838 Kernel element (off-diagonal) : 1711/124750 (1.3715 %)\n",
      "2020-09-12 09:34:10.787210 Kernel element (off-diagonal) : 1830/124750 (1.4669 %)\n",
      "2020-09-12 09:34:10.829287 Kernel element (off-diagonal) : 1953/124750 (1.5655 %)\n",
      "2020-09-12 09:34:10.884283 Kernel element (off-diagonal) : 2080/124750 (1.6673 %)\n",
      "2020-09-12 09:34:10.931093 Kernel element (off-diagonal) : 2211/124750 (1.7723 %)\n",
      "2020-09-12 09:34:10.994437 Kernel element (off-diagonal) : 2346/124750 (1.8806 %)\n",
      "2020-09-12 09:34:11.040958 Kernel element (off-diagonal) : 2485/124750 (1.9920 %)\n",
      "2020-09-12 09:34:11.094568 Kernel element (off-diagonal) : 2628/124750 (2.1066 %)\n",
      "2020-09-12 09:34:11.158740 Kernel element (off-diagonal) : 2775/124750 (2.2244 %)\n",
      "2020-09-12 09:34:11.208226 Kernel element (off-diagonal) : 2926/124750 (2.3455 %)\n",
      "2020-09-12 09:34:11.267021 Kernel element (off-diagonal) : 3081/124750 (2.4697 %)\n",
      "2020-09-12 09:34:11.327591 Kernel element (off-diagonal) : 3240/124750 (2.5972 %)\n",
      "2020-09-12 09:34:11.378696 Kernel element (off-diagonal) : 3403/124750 (2.7279 %)\n",
      "2020-09-12 09:34:11.440665 Kernel element (off-diagonal) : 3570/124750 (2.8617 %)\n",
      "2020-09-12 09:34:11.489882 Kernel element (off-diagonal) : 3741/124750 (2.9988 %)\n",
      "2020-09-12 09:34:11.553871 Kernel element (off-diagonal) : 3916/124750 (3.1391 %)\n",
      "2020-09-12 09:34:11.604851 Kernel element (off-diagonal) : 4095/124750 (3.2826 %)\n",
      "2020-09-12 09:34:11.677435 Kernel element (off-diagonal) : 4278/124750 (3.4293 %)\n",
      "2020-09-12 09:34:11.725914 Kernel element (off-diagonal) : 4465/124750 (3.5792 %)\n"
     ]
    },
    {
     "name": "stdout",
     "output_type": "stream",
     "text": [
      "2020-09-12 09:34:11.783199 Kernel element (off-diagonal) : 4656/124750 (3.7323 %)\n",
      "2020-09-12 09:34:11.848533 Kernel element (off-diagonal) : 4851/124750 (3.8886 %)\n",
      "2020-09-12 09:34:11.920126 Kernel element (off-diagonal) : 5050/124750 (4.0481 %)\n",
      "2020-09-12 09:34:11.988533 Kernel element (off-diagonal) : 5253/124750 (4.2108 %)\n",
      "2020-09-12 09:34:12.059597 Kernel element (off-diagonal) : 5460/124750 (4.3768 %)\n",
      "2020-09-12 09:34:12.144051 Kernel element (off-diagonal) : 5671/124750 (4.5459 %)\n",
      "2020-09-12 09:34:12.235656 Kernel element (off-diagonal) : 5886/124750 (4.7182 %)\n",
      "2020-09-12 09:34:12.301708 Kernel element (off-diagonal) : 6105/124750 (4.8938 %)\n",
      "2020-09-12 09:34:12.368837 Kernel element (off-diagonal) : 6328/124750 (5.0725 %)\n",
      "2020-09-12 09:34:12.444751 Kernel element (off-diagonal) : 6555/124750 (5.2545 %)\n",
      "2020-09-12 09:34:12.528927 Kernel element (off-diagonal) : 6786/124750 (5.4397 %)\n",
      "2020-09-12 09:34:12.606209 Kernel element (off-diagonal) : 7021/124750 (5.6281 %)\n",
      "2020-09-12 09:34:12.677553 Kernel element (off-diagonal) : 7260/124750 (5.8196 %)\n",
      "2020-09-12 09:34:12.743864 Kernel element (off-diagonal) : 7503/124750 (6.0144 %)\n",
      "2020-09-12 09:34:12.820768 Kernel element (off-diagonal) : 7750/124750 (6.2124 %)\n",
      "2020-09-12 09:34:12.889156 Kernel element (off-diagonal) : 8001/124750 (6.4136 %)\n",
      "2020-09-12 09:34:12.971458 Kernel element (off-diagonal) : 8256/124750 (6.6180 %)\n",
      "2020-09-12 09:34:13.036360 Kernel element (off-diagonal) : 8515/124750 (6.8257 %)\n",
      "2020-09-12 09:34:13.114054 Kernel element (off-diagonal) : 8778/124750 (7.0365 %)\n",
      "2020-09-12 09:34:13.195606 Kernel element (off-diagonal) : 9045/124750 (7.2505 %)\n",
      "2020-09-12 09:34:13.259848 Kernel element (off-diagonal) : 9316/124750 (7.4677 %)\n",
      "2020-09-12 09:34:13.351189 Kernel element (off-diagonal) : 9591/124750 (7.6882 %)\n",
      "2020-09-12 09:34:13.471917 Kernel element (off-diagonal) : 9870/124750 (7.9118 %)\n",
      "2020-09-12 09:34:13.531900 Kernel element (off-diagonal) : 10153/124750 (8.1387 %)\n",
      "2020-09-12 09:34:13.636675 Kernel element (off-diagonal) : 10440/124750 (8.3687 %)\n",
      "2020-09-12 09:34:13.709473 Kernel element (off-diagonal) : 10731/124750 (8.6020 %)\n",
      "2020-09-12 09:34:13.797144 Kernel element (off-diagonal) : 11026/124750 (8.8385 %)\n",
      "2020-09-12 09:34:13.900182 Kernel element (off-diagonal) : 11325/124750 (9.0782 %)\n",
      "2020-09-12 09:34:13.993134 Kernel element (off-diagonal) : 11628/124750 (9.3210 %)\n",
      "2020-09-12 09:34:14.078367 Kernel element (off-diagonal) : 11935/124750 (9.5671 %)\n",
      "2020-09-12 09:34:14.199040 Kernel element (off-diagonal) : 12246/124750 (9.8164 %)\n",
      "2020-09-12 09:34:14.293931 Kernel element (off-diagonal) : 12561/124750 (10.0689 %)\n",
      "2020-09-12 09:34:14.376294 Kernel element (off-diagonal) : 12880/124750 (10.3246 %)\n",
      "2020-09-12 09:34:14.519837 Kernel element (off-diagonal) : 13203/124750 (10.5836 %)\n",
      "2020-09-12 09:34:14.616936 Kernel element (off-diagonal) : 13530/124750 (10.8457 %)\n",
      "2020-09-12 09:34:14.709133 Kernel element (off-diagonal) : 13861/124750 (11.1110 %)\n",
      "2020-09-12 09:34:14.787303 Kernel element (off-diagonal) : 14196/124750 (11.3796 %)\n",
      "2020-09-12 09:34:14.918059 Kernel element (off-diagonal) : 14535/124750 (11.6513 %)\n",
      "2020-09-12 09:34:15.042288 Kernel element (off-diagonal) : 14878/124750 (11.9263 %)\n",
      "2020-09-12 09:34:15.140984 Kernel element (off-diagonal) : 15225/124750 (12.2044 %)\n",
      "2020-09-12 09:34:15.236802 Kernel element (off-diagonal) : 15576/124750 (12.4858 %)\n",
      "2020-09-12 09:34:15.366216 Kernel element (off-diagonal) : 15931/124750 (12.7703 %)\n",
      "2020-09-12 09:34:15.490521 Kernel element (off-diagonal) : 16290/124750 (13.0581 %)\n",
      "2020-09-12 09:34:15.611749 Kernel element (off-diagonal) : 16653/124750 (13.3491 %)\n",
      "2020-09-12 09:34:15.735202 Kernel element (off-diagonal) : 17020/124750 (13.6433 %)\n",
      "2020-09-12 09:34:15.820956 Kernel element (off-diagonal) : 17391/124750 (13.9407 %)\n",
      "2020-09-12 09:34:15.931138 Kernel element (off-diagonal) : 17766/124750 (14.2413 %)\n",
      "2020-09-12 09:34:16.031999 Kernel element (off-diagonal) : 18145/124750 (14.5451 %)\n",
      "2020-09-12 09:34:16.149514 Kernel element (off-diagonal) : 18528/124750 (14.8521 %)\n",
      "2020-09-12 09:34:16.262599 Kernel element (off-diagonal) : 18915/124750 (15.1623 %)\n",
      "2020-09-12 09:34:16.389531 Kernel element (off-diagonal) : 19306/124750 (15.4758 %)\n",
      "2020-09-12 09:34:16.496067 Kernel element (off-diagonal) : 19701/124750 (15.7924 %)\n",
      "2020-09-12 09:34:16.612940 Kernel element (off-diagonal) : 20100/124750 (16.1122 %)\n",
      "2020-09-12 09:34:16.712335 Kernel element (off-diagonal) : 20503/124750 (16.4353 %)\n",
      "2020-09-12 09:34:16.861108 Kernel element (off-diagonal) : 20910/124750 (16.7615 %)\n",
      "2020-09-12 09:34:16.980999 Kernel element (off-diagonal) : 21321/124750 (17.0910 %)\n",
      "2020-09-12 09:34:17.112079 Kernel element (off-diagonal) : 21736/124750 (17.4236 %)\n",
      "2020-09-12 09:34:17.243046 Kernel element (off-diagonal) : 22155/124750 (17.7595 %)\n",
      "2020-09-12 09:34:17.372695 Kernel element (off-diagonal) : 22578/124750 (18.0986 %)\n",
      "2020-09-12 09:34:17.482564 Kernel element (off-diagonal) : 23005/124750 (18.4409 %)\n",
      "2020-09-12 09:34:17.615542 Kernel element (off-diagonal) : 23436/124750 (18.7864 %)\n",
      "2020-09-12 09:34:17.752965 Kernel element (off-diagonal) : 23871/124750 (19.1351 %)\n",
      "2020-09-12 09:34:17.870247 Kernel element (off-diagonal) : 24310/124750 (19.4870 %)\n",
      "2020-09-12 09:34:18.014379 Kernel element (off-diagonal) : 24753/124750 (19.8421 %)\n",
      "2020-09-12 09:34:18.148207 Kernel element (off-diagonal) : 25200/124750 (20.2004 %)\n",
      "2020-09-12 09:34:18.259475 Kernel element (off-diagonal) : 25651/124750 (20.5619 %)\n",
      "2020-09-12 09:34:18.418455 Kernel element (off-diagonal) : 26106/124750 (20.9267 %)\n",
      "2020-09-12 09:34:18.566040 Kernel element (off-diagonal) : 26565/124750 (21.2946 %)\n",
      "2020-09-12 09:34:18.705168 Kernel element (off-diagonal) : 27028/124750 (21.6657 %)\n",
      "2020-09-12 09:34:18.833664 Kernel element (off-diagonal) : 27495/124750 (22.0401 %)\n",
      "2020-09-12 09:34:18.988496 Kernel element (off-diagonal) : 27966/124750 (22.4176 %)\n",
      "2020-09-12 09:34:19.097822 Kernel element (off-diagonal) : 28441/124750 (22.7984 %)\n",
      "2020-09-12 09:34:19.275982 Kernel element (off-diagonal) : 28920/124750 (23.1824 %)\n",
      "2020-09-12 09:34:19.417612 Kernel element (off-diagonal) : 29403/124750 (23.5695 %)\n",
      "2020-09-12 09:34:19.526491 Kernel element (off-diagonal) : 29890/124750 (23.9599 %)\n",
      "2020-09-12 09:34:19.660846 Kernel element (off-diagonal) : 30381/124750 (24.3535 %)\n",
      "2020-09-12 09:34:19.824109 Kernel element (off-diagonal) : 30876/124750 (24.7503 %)\n",
      "2020-09-12 09:34:20.005717 Kernel element (off-diagonal) : 31375/124750 (25.1503 %)\n",
      "2020-09-12 09:34:20.145620 Kernel element (off-diagonal) : 31878/124750 (25.5535 %)\n",
      "2020-09-12 09:34:20.289966 Kernel element (off-diagonal) : 32385/124750 (25.9599 %)\n",
      "2020-09-12 09:34:20.459892 Kernel element (off-diagonal) : 32896/124750 (26.3695 %)\n",
      "2020-09-12 09:34:20.605410 Kernel element (off-diagonal) : 33411/124750 (26.7824 %)\n",
      "2020-09-12 09:34:20.729441 Kernel element (off-diagonal) : 33930/124750 (27.1984 %)\n",
      "2020-09-12 09:34:20.863134 Kernel element (off-diagonal) : 34453/124750 (27.6176 %)\n",
      "2020-09-12 09:34:21.005370 Kernel element (off-diagonal) : 34980/124750 (28.0401 %)\n",
      "2020-09-12 09:34:21.198187 Kernel element (off-diagonal) : 35511/124750 (28.4657 %)\n",
      "2020-09-12 09:34:21.328471 Kernel element (off-diagonal) : 36046/124750 (28.8946 %)\n",
      "2020-09-12 09:34:21.471168 Kernel element (off-diagonal) : 36585/124750 (29.3267 %)\n",
      "2020-09-12 09:34:21.647255 Kernel element (off-diagonal) : 37128/124750 (29.7619 %)\n",
      "2020-09-12 09:34:21.795445 Kernel element (off-diagonal) : 37675/124750 (30.2004 %)\n",
      "2020-09-12 09:34:21.985956 Kernel element (off-diagonal) : 38226/124750 (30.6421 %)\n",
      "2020-09-12 09:34:22.136353 Kernel element (off-diagonal) : 38781/124750 (31.0870 %)\n",
      "2020-09-12 09:34:22.314494 Kernel element (off-diagonal) : 39340/124750 (31.5351 %)\n",
      "2020-09-12 09:34:22.466105 Kernel element (off-diagonal) : 39903/124750 (31.9864 %)\n",
      "2020-09-12 09:34:22.674415 Kernel element (off-diagonal) : 40470/124750 (32.4409 %)\n",
      "2020-09-12 09:34:22.864167 Kernel element (off-diagonal) : 41041/124750 (32.8986 %)\n",
      "2020-09-12 09:34:23.036648 Kernel element (off-diagonal) : 41616/124750 (33.3595 %)\n",
      "2020-09-12 09:34:23.311424 Kernel element (off-diagonal) : 42195/124750 (33.8236 %)\n",
      "2020-09-12 09:34:23.445712 Kernel element (off-diagonal) : 42778/124750 (34.2910 %)\n"
     ]
    },
    {
     "name": "stdout",
     "output_type": "stream",
     "text": [
      "2020-09-12 09:34:23.617421 Kernel element (off-diagonal) : 43365/124750 (34.7615 %)\n",
      "2020-09-12 09:34:23.813792 Kernel element (off-diagonal) : 43956/124750 (35.2353 %)\n",
      "2020-09-12 09:34:23.956275 Kernel element (off-diagonal) : 44551/124750 (35.7122 %)\n",
      "2020-09-12 09:34:24.128044 Kernel element (off-diagonal) : 45150/124750 (36.1924 %)\n",
      "2020-09-12 09:34:24.308984 Kernel element (off-diagonal) : 45753/124750 (36.6758 %)\n",
      "2020-09-12 09:34:24.498397 Kernel element (off-diagonal) : 46360/124750 (37.1623 %)\n",
      "2020-09-12 09:34:24.707135 Kernel element (off-diagonal) : 46971/124750 (37.6521 %)\n",
      "2020-09-12 09:34:24.873594 Kernel element (off-diagonal) : 47586/124750 (38.1451 %)\n",
      "2020-09-12 09:34:25.049242 Kernel element (off-diagonal) : 48205/124750 (38.6413 %)\n",
      "2020-09-12 09:34:25.243721 Kernel element (off-diagonal) : 48828/124750 (39.1407 %)\n",
      "2020-09-12 09:34:25.432033 Kernel element (off-diagonal) : 49455/124750 (39.6433 %)\n",
      "2020-09-12 09:34:25.660925 Kernel element (off-diagonal) : 50086/124750 (40.1491 %)\n",
      "2020-09-12 09:34:25.876702 Kernel element (off-diagonal) : 50721/124750 (40.6581 %)\n",
      "2020-09-12 09:34:26.040934 Kernel element (off-diagonal) : 51360/124750 (41.1703 %)\n",
      "2020-09-12 09:34:26.267193 Kernel element (off-diagonal) : 52003/124750 (41.6858 %)\n",
      "2020-09-12 09:34:26.442907 Kernel element (off-diagonal) : 52650/124750 (42.2044 %)\n",
      "2020-09-12 09:34:26.678536 Kernel element (off-diagonal) : 53301/124750 (42.7263 %)\n",
      "2020-09-12 09:34:26.879068 Kernel element (off-diagonal) : 53956/124750 (43.2513 %)\n",
      "2020-09-12 09:34:27.095596 Kernel element (off-diagonal) : 54615/124750 (43.7796 %)\n",
      "2020-09-12 09:34:27.289057 Kernel element (off-diagonal) : 55278/124750 (44.3110 %)\n",
      "2020-09-12 09:34:27.426425 Kernel element (off-diagonal) : 55945/124750 (44.8457 %)\n",
      "2020-09-12 09:34:27.632122 Kernel element (off-diagonal) : 56616/124750 (45.3836 %)\n",
      "2020-09-12 09:34:27.846873 Kernel element (off-diagonal) : 57291/124750 (45.9246 %)\n",
      "2020-09-12 09:34:28.050754 Kernel element (off-diagonal) : 57970/124750 (46.4689 %)\n",
      "2020-09-12 09:34:28.227968 Kernel element (off-diagonal) : 58653/124750 (47.0164 %)\n",
      "2020-09-12 09:34:28.376946 Kernel element (off-diagonal) : 59340/124750 (47.5671 %)\n",
      "2020-09-12 09:34:28.642047 Kernel element (off-diagonal) : 60031/124750 (48.1210 %)\n",
      "2020-09-12 09:34:28.824448 Kernel element (off-diagonal) : 60726/124750 (48.6782 %)\n",
      "2020-09-12 09:34:29.053094 Kernel element (off-diagonal) : 61425/124750 (49.2385 %)\n",
      "2020-09-12 09:34:29.274394 Kernel element (off-diagonal) : 62128/124750 (49.8020 %)\n",
      "2020-09-12 09:34:29.476210 Kernel element (off-diagonal) : 62835/124750 (50.3687 %)\n",
      "2020-09-12 09:34:29.706388 Kernel element (off-diagonal) : 63546/124750 (50.9387 %)\n",
      "2020-09-12 09:34:29.970914 Kernel element (off-diagonal) : 64261/124750 (51.5118 %)\n",
      "2020-09-12 09:34:30.193991 Kernel element (off-diagonal) : 64980/124750 (52.0882 %)\n",
      "2020-09-12 09:34:30.388670 Kernel element (off-diagonal) : 65703/124750 (52.6677 %)\n",
      "2020-09-12 09:34:30.597226 Kernel element (off-diagonal) : 66430/124750 (53.2505 %)\n",
      "2020-09-12 09:34:30.849203 Kernel element (off-diagonal) : 67161/124750 (53.8365 %)\n",
      "2020-09-12 09:34:31.125589 Kernel element (off-diagonal) : 67896/124750 (54.4257 %)\n",
      "2020-09-12 09:34:31.377996 Kernel element (off-diagonal) : 68635/124750 (55.0180 %)\n",
      "2020-09-12 09:34:31.592590 Kernel element (off-diagonal) : 69378/124750 (55.6136 %)\n",
      "2020-09-12 09:34:31.830327 Kernel element (off-diagonal) : 70125/124750 (56.2124 %)\n",
      "2020-09-12 09:34:32.080975 Kernel element (off-diagonal) : 70876/124750 (56.8144 %)\n",
      "2020-09-12 09:34:32.323611 Kernel element (off-diagonal) : 71631/124750 (57.4196 %)\n",
      "2020-09-12 09:34:32.514000 Kernel element (off-diagonal) : 72390/124750 (58.0281 %)\n",
      "2020-09-12 09:34:32.734374 Kernel element (off-diagonal) : 73153/124750 (58.6397 %)\n",
      "2020-09-12 09:34:32.992226 Kernel element (off-diagonal) : 73920/124750 (59.2545 %)\n",
      "2020-09-12 09:34:33.254103 Kernel element (off-diagonal) : 74691/124750 (59.8725 %)\n",
      "2020-09-12 09:34:33.509001 Kernel element (off-diagonal) : 75466/124750 (60.4938 %)\n",
      "2020-09-12 09:34:33.749374 Kernel element (off-diagonal) : 76245/124750 (61.1182 %)\n",
      "2020-09-12 09:34:33.988294 Kernel element (off-diagonal) : 77028/124750 (61.7459 %)\n",
      "2020-09-12 09:34:34.179563 Kernel element (off-diagonal) : 77815/124750 (62.3768 %)\n",
      "2020-09-12 09:34:34.429921 Kernel element (off-diagonal) : 78606/124750 (63.0108 %)\n",
      "2020-09-12 09:34:34.768646 Kernel element (off-diagonal) : 79401/124750 (63.6481 %)\n",
      "2020-09-12 09:34:35.026726 Kernel element (off-diagonal) : 80200/124750 (64.2886 %)\n",
      "2020-09-12 09:34:35.374380 Kernel element (off-diagonal) : 81003/124750 (64.9323 %)\n",
      "2020-09-12 09:34:35.649616 Kernel element (off-diagonal) : 81810/124750 (65.5792 %)\n",
      "2020-09-12 09:34:35.920713 Kernel element (off-diagonal) : 82621/124750 (66.2293 %)\n",
      "2020-09-12 09:34:36.133388 Kernel element (off-diagonal) : 83436/124750 (66.8826 %)\n",
      "2020-09-12 09:34:36.345761 Kernel element (off-diagonal) : 84255/124750 (67.5391 %)\n",
      "2020-09-12 09:34:36.558113 Kernel element (off-diagonal) : 85078/124750 (68.1988 %)\n",
      "2020-09-12 09:34:36.886734 Kernel element (off-diagonal) : 85905/124750 (68.8617 %)\n",
      "2020-09-12 09:34:37.120478 Kernel element (off-diagonal) : 86736/124750 (69.5279 %)\n",
      "2020-09-12 09:34:37.363516 Kernel element (off-diagonal) : 87571/124750 (70.1972 %)\n",
      "2020-09-12 09:34:37.646019 Kernel element (off-diagonal) : 88410/124750 (70.8697 %)\n",
      "2020-09-12 09:34:37.927169 Kernel element (off-diagonal) : 89253/124750 (71.5455 %)\n",
      "2020-09-12 09:34:38.128683 Kernel element (off-diagonal) : 90100/124750 (72.2244 %)\n",
      "2020-09-12 09:34:38.400780 Kernel element (off-diagonal) : 90951/124750 (72.9066 %)\n",
      "2020-09-12 09:34:38.686237 Kernel element (off-diagonal) : 91806/124750 (73.5920 %)\n",
      "2020-09-12 09:34:39.005028 Kernel element (off-diagonal) : 92665/124750 (74.2806 %)\n",
      "2020-09-12 09:34:39.227151 Kernel element (off-diagonal) : 93528/124750 (74.9723 %)\n",
      "2020-09-12 09:34:39.480306 Kernel element (off-diagonal) : 94395/124750 (75.6673 %)\n",
      "2020-09-12 09:34:39.681670 Kernel element (off-diagonal) : 95266/124750 (76.3655 %)\n",
      "2020-09-12 09:34:39.993629 Kernel element (off-diagonal) : 96141/124750 (77.0669 %)\n",
      "2020-09-12 09:34:40.364170 Kernel element (off-diagonal) : 97020/124750 (77.7715 %)\n",
      "2020-09-12 09:34:40.613387 Kernel element (off-diagonal) : 97903/124750 (78.4794 %)\n",
      "2020-09-12 09:34:40.865831 Kernel element (off-diagonal) : 98790/124750 (79.1904 %)\n",
      "2020-09-12 09:34:41.179680 Kernel element (off-diagonal) : 99681/124750 (79.9046 %)\n",
      "2020-09-12 09:34:41.428550 Kernel element (off-diagonal) : 100576/124750 (80.6220 %)\n",
      "2020-09-12 09:34:41.687724 Kernel element (off-diagonal) : 101475/124750 (81.3427 %)\n",
      "2020-09-12 09:34:42.016880 Kernel element (off-diagonal) : 102378/124750 (82.0665 %)\n",
      "2020-09-12 09:34:42.296539 Kernel element (off-diagonal) : 103285/124750 (82.7936 %)\n",
      "2020-09-12 09:34:42.586046 Kernel element (off-diagonal) : 104196/124750 (83.5238 %)\n",
      "2020-09-12 09:34:42.881918 Kernel element (off-diagonal) : 105111/124750 (84.2573 %)\n",
      "2020-09-12 09:34:43.174005 Kernel element (off-diagonal) : 106030/124750 (84.9940 %)\n",
      "2020-09-12 09:34:43.477039 Kernel element (off-diagonal) : 106953/124750 (85.7339 %)\n",
      "2020-09-12 09:34:43.748696 Kernel element (off-diagonal) : 107880/124750 (86.4770 %)\n",
      "2020-09-12 09:34:44.088658 Kernel element (off-diagonal) : 108811/124750 (87.2232 %)\n",
      "2020-09-12 09:34:44.388341 Kernel element (off-diagonal) : 109746/124750 (87.9727 %)\n",
      "2020-09-12 09:34:44.702362 Kernel element (off-diagonal) : 110685/124750 (88.7255 %)\n",
      "2020-09-12 09:34:44.988954 Kernel element (off-diagonal) : 111628/124750 (89.4814 %)\n",
      "2020-09-12 09:34:45.270795 Kernel element (off-diagonal) : 112575/124750 (90.2405 %)\n",
      "2020-09-12 09:34:45.611460 Kernel element (off-diagonal) : 113526/124750 (91.0028 %)\n",
      "2020-09-12 09:34:45.986290 Kernel element (off-diagonal) : 114481/124750 (91.7683 %)\n",
      "2020-09-12 09:34:46.289762 Kernel element (off-diagonal) : 115440/124750 (92.5371 %)\n",
      "2020-09-12 09:34:46.548349 Kernel element (off-diagonal) : 116403/124750 (93.3090 %)\n",
      "2020-09-12 09:34:46.900310 Kernel element (off-diagonal) : 117370/124750 (94.0842 %)\n",
      "2020-09-12 09:34:47.368684 Kernel element (off-diagonal) : 118341/124750 (94.8625 %)\n",
      "2020-09-12 09:34:47.704087 Kernel element (off-diagonal) : 119316/124750 (95.6441 %)\n"
     ]
    },
    {
     "name": "stdout",
     "output_type": "stream",
     "text": [
      "2020-09-12 09:34:48.099142 Kernel element (off-diagonal) : 120295/124750 (96.4289 %)\n",
      "2020-09-12 09:34:48.453946 Kernel element (off-diagonal) : 121278/124750 (97.2168 %)\n",
      "2020-09-12 09:34:48.777098 Kernel element (off-diagonal) : 122265/124750 (98.0080 %)\n",
      "2020-09-12 09:34:49.101565 Kernel element (off-diagonal) : 123256/124750 (98.8024 %)\n",
      "2020-09-12 09:34:49.418219 Kernel element (off-diagonal) : 124251/124750 (99.6000 %)\n",
      "2020-09-12 09:34:49.862372 Kernel element (off-diagonal) : 124750/124750 (100.0000 %)\n",
      "Normalize kernel matrix ...\n",
      "... ok!\n",
      "\n",
      "Save kernel matrix as ./data_store/kernels/test_kernel_2.txt ...\n",
      "... ok!\n",
      "\n",
      "Calculate the average kernel for 500 molecules\n",
      "2020-09-12 09:35:51.988207 Kernel element (diagonal) :     500/500 (for normalization)\n",
      "Normalize kernel matrix ...\n",
      "... ok!\n",
      "\n",
      "Save kernel matrix as ./data_store/kernels/test_kernel_4.txt ...\n",
      "... ok!\n",
      "\n"
     ]
    }
   ],
   "source": [
    "kernel_matrix_2 = gap.calc_kernel_matrix_soap(\n",
    "    descs_2,\n",
    "    header=desc_str_2,\n",
    "    zeta=2.,\n",
    "    kernel_type='average',\n",
    "    normalize=True,\n",
    "    ncores=2,\n",
    "    verbose=True,\n",
    "    destination='./data_store/kernels/test_kernel_2.txt'\n",
    ")\n",
    "kernel_matrix_4 = gap.calc_kernel_matrix_soap(\n",
    "    descs_4,\n",
    "    header=desc_str_4,\n",
    "    zeta=2.,\n",
    "    kernel_type='average',\n",
    "    normalize=True,\n",
    "    destination='./data_store/kernels/test_kernel_4.txt'\n",
    ")\n"
   ]
  },
  {
   "cell_type": "markdown",
   "metadata": {},
   "source": [
    "To obtain a multisoap kernel the individual kernel matrices are averaged. Note for the sum kernel individual kernels are just summed up (kernel_matrix = kernel_matrix_2 + kernel_matrix_4). "
   ]
  },
  {
   "cell_type": "code",
   "execution_count": null,
   "metadata": {},
   "outputs": [],
   "source": [
    "kernel_matrix_2 = np.loadtxt('./data_store/kernels/test_kernel_2.txt')\n",
    "kernel_matrix_4 = np.loadtxt('./data_store/kernels/test_kernel_4.txt')\n",
    "kernel_matrix = 0.5*(kernel_matrix_2 + kernel_matrix_4)"
   ]
  },
  {
   "cell_type": "markdown",
   "metadata": {},
   "source": [
    "FPS:\n",
    "----\n",
    "Training set selection can be done using the fartherst point sampling (FPS) method to obtain a representative set. To this end, we use the **find_farthest()** method to generate a sequence that can be applied to the molecules array. To use this method we need the respective distance matrix from the kernel matrix. The distance matrix can be calculated via the **calc_distance_matrix()** method. For doing the FPS we have to specify the `seeds` and `number` parameters. The `seeds` parameter can be an interger or list of integers that serve as starting samples. The parameter `number` defines how many structures are to be selected. Once the sequence is generated one can apply it to the molecules array. Note in this example molecules are already ordered according to the fps sampling. For that reason the resulting sequence ranges from 0 to 499."
   ]
  },
  {
   "cell_type": "code",
   "execution_count": null,
   "metadata": {},
   "outputs": [],
   "source": [
    "# Calculate distance matrix for farthest point sampling\n",
    "dist_matrix = gap.calc_distance_matrix(kernel_matrix)\n",
    "\n",
    "# Do FPS\n",
    "seeds = [0,]\n",
    "number = 500\n",
    "seq = gap.find_farthest(dist_matrix, seeds, number)\n",
    "print(seq)\n",
    "m = np.asarray(m, dtype='object')[seq]"
   ]
  },
  {
   "cell_type": "markdown",
   "metadata": {},
   "source": [
    "Fits:\n",
    "-----\n",
    "In order to predict molecular energies one can use Kernel Ridge Regression and the multisoap average kernel. As a first step we grep the atomization energies (AE) from the atoms objects in ase. Since the average kernel is an intensive kernel matrix, the quantity to fit also has to be intensive. We therefore fit on the AE per atom. To do this, the number of atoms N in each molecule has to be determined. Note: If the sum kernel is used one should fit to the AE.  "
   ]
  },
  {
   "cell_type": "code",
   "execution_count": null,
   "metadata": {},
   "outputs": [],
   "source": [
    "# Get AE and number of atoms in a molecule\n",
    "AE = np.asarray([mol.info['AE'] for mol in m])\n",
    "N = np.asarray([float(len(mol.get_chemical_symbols())) for mol in m]) \n",
    "# Divide AE through N to get an intensive quantity\n",
    "AE_N = AE/N\n",
    "# Enable or disable here to display AE/N\n",
    "# AE_N"
   ]
  },
  {
   "cell_type": "markdown",
   "metadata": {},
   "source": [
    "The KRR coeffients alpha are obtained via the function **get_krr_coeff()**. For the intensive fits we applied a mean correction to the AE per atom. This is done by setting the mean of the training energies to the paramter `mc`. The parameter `default_sigma` represents the regularization parameter. It is a single value. If one wants to set a regularization parameter for every individual molecule (vector) one has to set the `y_sigma` parameter. In this case, `default_sigma` is overwritten. `default_sigma` can also be determined via grid search with the function **grid_search_1d_validation_set()**. This is shown in the tutorial below.    "
   ]
  },
  {
   "cell_type": "code",
   "execution_count": null,
   "metadata": {},
   "outputs": [],
   "source": [
    "# Training\n",
    "alpha = get_krr_coeff(kernel_matrix, AE_N, default_sigma=0.001, mc=np.mean(AE_N))\n",
    "# alpha"
   ]
  },
  {
   "cell_type": "markdown",
   "metadata": {},
   "source": [
    "The quantities of interest can be obtained via the function **get_prediction()**, which uses the kernel matrix, the alpha coefficients and the mean energy (if a mean correction is applied) of the training data as inputs. With the obtained energies, errors like the mean absolute error can be calculated."
   ]
  },
  {
   "cell_type": "code",
   "execution_count": null,
   "metadata": {},
   "outputs": [],
   "source": [
    "# Prediction of training data   \n",
    "y = get_prediction(kernel_matrix, alpha, mc=np.mean(AE_N))\n",
    "# y\n",
    "print(f\"MAE training set: {mean_absolute_error(AE, y*N): .3f} eV\")"
   ]
  },
  {
   "cell_type": "markdown",
   "metadata": {},
   "source": [
    "Prediction of unknown data samples:\n",
    "-----------------------------------\n",
    "In order to predict unknown data, a new kernel matrix has to be prepared. This can be done via the method **calc_soap_kernel_between_sets()**. This method uses two lists of descriptor matrices for two molecule sets (e.g. training and prediction set.) Therefore we have now to create the list of descriptors for the molecules to be predicted. This is done in a similar way as shown in the beginning of the tutorial.  "
   ]
  },
  {
   "cell_type": "code",
   "execution_count": null,
   "metadata": {},
   "outputs": [],
   "source": [
    "# Prediction\n",
    "# Load molecules to be predicted\n",
    "m_pred = ase.io.read('./data_store/molecules/mols_validation.xyz@:')\n",
    "# Set molecules to the variable atoms_other and set lattices around them. \n",
    "gap.atoms_other = m_pred\n",
    "gap.set_lattices(50, 'other')\n"
   ]
  },
  {
   "cell_type": "code",
   "execution_count": null,
   "metadata": {},
   "outputs": [],
   "source": [
    "# Calculate the two different descriptors for the multisoap kernel.\n",
    "descs_pred_2 = gap.get_descriptors('other', desc_str_2)\n",
    "kernel_pred_2 = gap.calc_soap_kernel_between_sets(\n",
    "    descs_2,  # List with descriptors from the training set\n",
    "    descs_pred_2,  # List with descriptors from the test set\n",
    "    zeta=2.,\n",
    "    kernel_type='average',\n",
    ")\n",
    "descs_pred_4 = gap.get_descriptors('other', desc_str_4)\n",
    "kernel_pred_4 = gap.calc_soap_kernel_between_sets(\n",
    "    descs_4,  # List with descriptors from the training set\n",
    "    descs_pred_4,  # List with descriptors from the test set\n",
    "    zeta=2.,\n",
    "    kernel_type='average',\n",
    ")\n",
    "# Calculate the multisoap kernel\n",
    "kernel_pred = 0.5*(kernel_pred_2 + kernel_pred_4)\n",
    "np.savetxt('./data_store/kernels/prediction_kernel.txt', kernel_pred, header=f\"{desc_str_2}, {desc_str_4}\")"
   ]
  },
  {
   "cell_type": "code",
   "execution_count": null,
   "metadata": {},
   "outputs": [],
   "source": [
    "kernel_pred = np.loadtxt('./data_store/kernels/prediction_kernel.txt')"
   ]
  },
  {
   "cell_type": "markdown",
   "metadata": {},
   "source": [
    "Predict the energies and calculate the MAE."
   ]
  },
  {
   "cell_type": "code",
   "execution_count": null,
   "metadata": {},
   "outputs": [],
   "source": [
    "# Predict energies as y_pred\n",
    "y_pred = get_prediction(kernel_pred, alpha, mc=np.mean(AE_N))\n",
    "\n",
    "# Grep AE and number of molecules from list with ase atoms objects\n",
    "AE_pred = np.asarray([mol.info['AE'] for mol in m_pred])\n",
    "N_pred = np.asarray([float(len(mol.get_chemical_symbols())) for mol in m_pred])\n",
    "\n",
    "# Get MAE of predictions (recalculate AE/N in AE by multipling them with N)\n",
    "print(f\"MAE training set: {mean_absolute_error(AE_pred, y_pred*N_pred): .3f} eV\")"
   ]
  },
  {
   "cell_type": "markdown",
   "metadata": {},
   "source": [
    "Define regularization parameter with grid search:\n",
    "-------------------------------------------------\n",
    "To determine the regularization parameter sigma in KRR the **grid_search_1d_validation_set()** function can be used. To this end, one has to define a grid with different sigma paramaters that should be checked. Further inputs to this function are the training kernel matrix, the matrix used to do the predictions for the validation set and the respective AE per atoms (for both training and validation sets) as well as the mean of the training set energies if mean correction is applied. The results (hypersurfaces) are stored in a matrix that contains the following three columns: 1.) sigma values from the grid, 2.) RMSE train [eV], 3.) RMSE validation [eV] . This matrix is saved as *hypersurface_data.txt* in the directory *'./Results_validation_set'* by default. "
   ]
  },
  {
   "cell_type": "code",
   "execution_count": null,
   "metadata": {},
   "outputs": [],
   "source": [
    "# Define grid with sigma values\n",
    "sigmas = [1e-4, 5e-4, 1e-3, 5e-3, 1e-2, 5e-2, 0.1, 0.5]\n",
    "\n",
    "# Run the grid search with grid_search_1d_validation\n",
    "grid_search_1d_validation_set(kernel_matrix, kernel_pred, AE_N, AE_pred/N_pred, sigmas, mc=np.mean(AE_N), destination='./data_store/Results_validation_set') "
   ]
  },
  {
   "cell_type": "markdown",
   "metadata": {},
   "source": [
    "The resulting hypersurfaces can be plotted and the sigma which has the lowest RMSE of the training set is used.  "
   ]
  },
  {
   "cell_type": "code",
   "execution_count": null,
   "metadata": {},
   "outputs": [],
   "source": [
    "# Load surface\n",
    "surface = np.loadtxt('./data_store/Results_validation_set/hypersurface_data.txt')\n",
    "#plot surface \n",
    "plt.plot(np.log10(surface[:, 0]), surface[:, 1], 'v', ls='--', label='train',c='royalblue')\n",
    "plt.plot(np.log10(surface[:, 0]), surface[:, 2], 'D', ls='-.', label='validate',c='crimson')\n",
    "plt.axvline(np.log10(surface[np.argmin(surface[:, 2]), 0]), c='k', label=r'$\\sigma$', ls=':')\n",
    "plt.xlabel(r'log($\\sigma$)')\n",
    "plt.ylabel(r'AE/$N$ [eV]')\n",
    "plt.legend()\n",
    "\n",
    "print(f\"Regularization parameter is: {surface[np.argmin(surface[:, 2]), 0]}\")\n",
    "print(f\"{'sigma':7s} {'RMSE train [eV]':10s} {'RMSE validation [eV]':10s}\")\n",
    "for line in surface:\n",
    "    print(f\"{line[0]:0.5f} {line[1]:0.5f} {'':8s}{line[2]:0.5f}\")"
   ]
  },
  {
   "cell_type": "markdown",
   "metadata": {},
   "source": [
    "Kernel PCA:\n",
    "-----------\n",
    "In this script we show how to do a kernel PCA using the average kernel from above. To this end, the **kPCA()** function is used, which uses the kernel matrix as an input. The function returns the first three PCs with the three highest eigenvalues. These principal components can be ploted as shown below."
   ]
  },
  {
   "cell_type": "code",
   "execution_count": null,
   "metadata": {},
   "outputs": [],
   "source": [
    "PC1, PC2, PC3, eigenvals = kPCA(kernel_matrix)"
   ]
  },
  {
   "cell_type": "code",
   "execution_count": null,
   "metadata": {},
   "outputs": [],
   "source": [
    "print(eigenvals)"
   ]
  },
  {
   "cell_type": "code",
   "execution_count": null,
   "metadata": {},
   "outputs": [],
   "source": [
    "plt.scatter(PC1, PC2, c=AE_N)\n",
    "plt.xlabel('PC 1')\n",
    "plt.ylabel('PC 2')\n",
    "plt.colorbar()"
   ]
  },
  {
   "cell_type": "markdown",
   "metadata": {},
   "source": [
    "Or you can plot it in 3D:"
   ]
  },
  {
   "cell_type": "code",
   "execution_count": null,
   "metadata": {},
   "outputs": [],
   "source": [
    "from mpl_toolkits.mplot3d import Axes3D\n",
    "fig = plt.figure()\n",
    "ax = fig.add_subplot(111, projection='3d')\n",
    "\n",
    "ax.scatter(PC1, PC2, s=20, c=AE_N)\n",
    "ax.set_xlabel('PC 1')\n",
    "ax.set_ylabel('PC 2')\n",
    "ax.set_zlabel('PC 3')"
   ]
  },
  {
   "cell_type": "markdown",
   "metadata": {},
   "source": [
    "Reaction energies:\n",
    "------------------\n",
    "In this tutorial we use a very small reaction network of only three reactions as a showcase to illustrate how reaction energies can be calculated. The reaction network contains only dissociation and rearrangement reactions of type A -> B + C and A -> B. Note that only this type of network (e.g. like Rad-6-RE) can be analyzed with the underlying code. \n",
    "\n",
    "The first two steps should be familiar, since we are now creating the kernel matrix for the 8 molecules to be predicted with the 500 molecules from the training set and predict the AE. "
   ]
  },
  {
   "cell_type": "code",
   "execution_count": null,
   "metadata": {},
   "outputs": [],
   "source": [
    "# Load molecules included in the reaction network\n",
    "m_RE = ase.io.read('./data_store/molecules/mols_reaction.xyz@:')\n",
    "# Set molecules to the variable atoms_other and set lattices around them. \n",
    "gap.atoms_other = m_RE\n",
    "gap.set_lattices(50, 'other')\n",
    "\n",
    "# Calculate the two different descriptors for the multisoap kernel.\n",
    "descs_RE_2 = gap.get_descriptors('other', desc_str_2)\n",
    "kernel_RE_2 = gap.calc_soap_kernel_between_sets(\n",
    "    descs_2,  # List with descriptors from the training set\n",
    "    descs_RE_2,  # List with descriptors from the test set\n",
    "    zeta=2.,\n",
    "    kernel_type='average',\n",
    ")\n",
    "descs_RE_4 = gap.get_descriptors('other', desc_str_4)\n",
    "kernel_RE_4 = gap.calc_soap_kernel_between_sets(\n",
    "    descs_4,  # List with descriptors from the training set\n",
    "    descs_RE_4,  # List with descriptors from the test set\n",
    "    zeta=2.,\n",
    "    kernel_type='average',\n",
    ")\n",
    "kernel_RE = 0.5*(kernel_RE_2 + kernel_RE_4)"
   ]
  },
  {
   "cell_type": "code",
   "execution_count": null,
   "metadata": {},
   "outputs": [],
   "source": [
    "# Prediction of AE/N for molecules in the network\n",
    "y_RE = get_prediction(kernel_RE, alpha, mc=np.mean(AE_N))\n",
    "\n",
    "# Grep N and AE from list with ase atoms objects\n",
    "N_RE = np.asarray([float(len(mol.get_chemical_symbols())) for mol in m_RE]) \n",
    "AE_RE = np.asarray([mol.info['AE'] for mol in m_RE])\n",
    "\n",
    "# Get MAE for AE\n",
    "print(f\"MAE RE set: {mean_absolute_error(AE_RE, y_RE*N_RE): .3f} eV\")"
   ]
  },
  {
   "cell_type": "markdown",
   "metadata": {},
   "source": [
    "In the next step we detect how many molecules are involved in the network or rather what is the largest id of the molecules in the network. This is done because it is also possible that you have a database and not all molecules are part of the network. Therefore you need the id and not just the number of molecules. Usually both numbers are however the same. With this in hand, we apply the function **read_reaction_network_g0()**. This functions returns the indices for the educts and products of the molecules (ids) that can be applied to the predicted AE arrays. We further use the function **append_energy_4_rearrangements()** to also account for rearrangement reactions by appending an entry with 0 eV to the predicted AE array.  "
   ]
  },
  {
   "cell_type": "code",
   "execution_count": null,
   "metadata": {},
   "outputs": [],
   "source": [
    "# Get molecule id's\n",
    "ids = [mol.info['id'] for mol in m_RE]\n",
    "\n",
    "# Append zero energy value atomization energies \n",
    "AE_RE_new = append_energy_4_rearrangements(y_RE*N_RE)\n",
    "print(AE_RE_new)\n",
    "\n",
    "# Get indices for molecules involved in the network\n",
    "# Reaction network of type A -> B + C \n",
    "# e = indices of A, p1 = indices of B, p2 = indices of C \n",
    "e, p1, p2, reaction_energies = read_reaction_network_g0('./data_store/network/test_RE.txt', np.max(ids))\n",
    "\n"
   ]
  },
  {
   "cell_type": "markdown",
   "metadata": {},
   "source": [
    "The reaction energies can now be calculated by using the indices and substracting the educt energies from the product energies."
   ]
  },
  {
   "cell_type": "code",
   "execution_count": null,
   "metadata": {},
   "outputs": [],
   "source": [
    "RE_calc = (AE_RE_new[p1]+ AE_RE_new[p2])-AE_RE_new[e]\n",
    "print(f\"The obtained reaction energies are: {RE_calc}\")\n",
    "print(f\"MAE for three reactions: {mean_absolute_error(reaction_energies, RE_calc):0.3f} eV\")"
   ]
  },
  {
   "cell_type": "code",
   "execution_count": null,
   "metadata": {},
   "outputs": [],
   "source": []
  }
 ],
 "metadata": {
  "kernelspec": {
   "display_name": "Python 3",
   "language": "python",
   "name": "python3"
  },
  "language_info": {
   "codemirror_mode": {
    "name": "ipython",
    "version": 3
   },
   "file_extension": ".py",
   "mimetype": "text/x-python",
   "name": "python",
   "nbconvert_exporter": "python",
   "pygments_lexer": "ipython3",
   "version": "3.7.5"
  }
 },
 "nbformat": 4,
 "nbformat_minor": 4
}
